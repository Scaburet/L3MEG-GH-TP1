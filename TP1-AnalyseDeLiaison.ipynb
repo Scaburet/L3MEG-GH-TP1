{
 "cells": [
  {
   "cell_type": "markdown",
   "metadata": {},
   "source": [
    "# Travaux pratiques de génétique humaine \n",
    "# Identification d'un gène impliqué dans des infertilités ovariennes prématurées\n",
    "\n",
    "Dans ce notebook, vous allez commencez l'analyse génétique de la famille consanguine MO1.  \n",
    "Ce TP vous permettra de mettre en pratique et d'approfondir les notions vues en cours.   "
   ]
  },
  {
   "cell_type": "markdown",
   "metadata": {},
   "source": [
    "<div class=\"alert alert-block alert-info\"> \n",
    "   \n",
    "<em>   <b>Commencez par faire une copie de ce notebook, par sécurité. </b><br>\n",
    "Rappel : Vous pouvez prendre des notes directement dans ce notebook, en ajoutant une cellule Markdown en cliquant sur l'icône <kbd>➕</kbd> dans la barre des menus, et en choisissant son format dans le menu déroulant. \n",
    "</em>\n",
    "</div>\n",
    "\n",
    "<mark>Si vous ajoutez des cellules avec vos commentaires, ou que vous modifiez des cellules existantes, **n'oubliez pas d'enregistrer votre notebook**.<mark>"
   ]
  },
  {
   "cell_type": "markdown",
   "metadata": {},
   "source": [
    "---\n",
    "### Introduction générale aux Travaux Pratiques de Génétique Humaine\n",
    "\n",
    "Vous cherchez à identifier le gène en cause dans des cas d'insuffisance ovarienne prématurée (IOP) observés au sein d'une même famille (codée MO1 par souci de confidentialité). Une **analyse de liaison** va servir à mettre en évidence les régions du génome partagées entre individus atteints. En troisième séance, vous réaliserez une analyse de résultats d'un **séquençage d'exome** afin d'identifier le  variant en cause dans la famille. Cette famille présente une boucle de consanguinité. Vous disposez des données de génotypage de microsatellites et de SNPs (Single Nucleotide Polymorphisms) répartis sur la totalité du génome.\n",
    "Les séances 3 et 4 des travaux pratiques vous aideront à vous familiariser avec les techniques de séquençage massif (NGS) et les analyses de ces données.\n",
    "\n",
    "Les notions abordées pendant les quatre séances de TP seront :\n",
    "- TP1 : l'analyse de liaison génétique entre les marqueurs (microsatellites et SNP) et le variant génétique en cause dans l'IOP et l’identification des régions de liaison génétique ;\n",
    "- TP2 : la délimitation des régions de liaison et des loci en cause sur les cartes génétique et physique du génome et la reconstitution des haplotypes transmis des parents aux enfants ; les gènes présents dans les régions liées à l'IOP et leur type.\n",
    "- TP3 : la collecte des informations fonctionnelles sur les gènes candidats, l'introduction au séquançage d'exomes, les types de variants et leur visualisation\n",
    "- TP4 : le filtrage des variants et l'identification du variant causal de l'IOP dans la famille étudiée."
   ]
  },
  {
   "cell_type": "markdown",
   "metadata": {},
   "source": [
    "---\n",
    "## TP1 : Analyse de liaison\n",
    "\n",
    "\n",
    "Le but de ce premier TP est de vous familiariser avec :\n",
    "- l'analyse de liaison génétique adaptée à l'espèce humaine, par la méthode des lod-scores\n",
    "- les paramètres importants pour cette méthode\n",
    "- l'interprétation de vos résultats de liaison\n",
    "- des analyses sur génome entier, grâce au programme d'analyse génétique MERLIN\n"
   ]
  },
  {
   "cell_type": "markdown",
   "metadata": {},
   "source": [
    "### __A - Première partie : réflexion sur le modèle de maladie__  \n",
    "\n",
    "\n",
    "L'analyse de liaison par la méthode du Lod score repose sur un **modèle** reflétant le mode de transmission du caractère étudié (ici l'IOP).   Le choix du modèle, ou des différents modèles possibles, s’effectue sur la base de l’observation de l’arbre généalogique et des caractéristiques des patients (par exemple l’âge d’apparition de la maladie, l’observation de symptômes identiques ou au contraire seulement similaires avec variabilité phénotypique, etc…).   \n",
    "  \n",
    "Les différents paramètres à prendre en compte pour une analyse de liaison sont :\n",
    "- la fréquence de l'allèle maladie, estimée sur la base des informations disponibles sur la prévalence de la maladie  \n",
    "- le modèle probable de transmission de la maladie\n",
    "- les valeurs des différentes pénétrances qui découle de ce modèle"
   ]
  },
  {
   "cell_type": "markdown",
   "metadata": {},
   "source": [
    "Ces paramètres sont fournis dans le fichier **modele.txt**, fourni dans cet environnement (à gauche).  \n",
    "Affichez son contenu avec la commande suivante (c'est à dire exécutez la cellule Code suivante)"
   ]
  },
  {
   "cell_type": "code",
   "execution_count": 1,
   "metadata": {},
   "outputs": [
    {
     "name": "stdout",
     "output_type": "stream",
     "text": [
      "POF\t0.01\t0,0.8,1.6\tmodele1\n",
      "POF\t0.01\t*\tmodele2\n",
      "\tSEX = FEMALE\t0,0,0.5\n",
      "\tOTHERWISE\t0,0,0\n",
      "\n"
     ]
    }
   ],
   "source": [
    "### Cellule Code n° 1\n",
    "# Affichage du contenu du fichier modele.txt (le nom du fichier est fourni en argument de la commande)\n",
    "# la commande head permet de lire le début d'un fichier. \n",
    "# Sans autre précision (par défaut), elle affiche les 10 premières lignes du fichier indiqué. \n",
    "\n",
    "head modele.txt\n"
   ]
  },
  {
   "cell_type": "markdown",
   "metadata": {},
   "source": [
    " **Question 1 -** <span style=\"color:blue\">  Examinez les valeurs indiquées. <br>\n",
    "Vous paraissent-elles correctes ?  <br> \n",
    "Dans la cellule raw qui suit, copiez le contenu du fichier modele.txt, et corrigez les valeurs. </span>"
   ]
  },
  {
   "cell_type": "raw",
   "metadata": {},
   "source": [
    "Cellule Raw  n° 1\n",
    "\n",
    "   \n",
    "   "
   ]
  },
  {
   "cell_type": "markdown",
   "metadata": {},
   "source": [
    "<span style=\"color:blue\"> Puis, au choix : <br>\n",
    "a- dupliquez le fichier modele.txt, modifiez le nom de la copie (par exemple en ***modele2.txt***), et ajustez les valeurs dans cette copie  <br>\n",
    "b- créez un nouveau fichier texte à l'aide du launcher, renommez-le (par exemple en ***modele2.txt***), et copiez-y les lignes modifiées dans la cellule raw ci-dessus.  </span>"
   ]
  },
  {
   "cell_type": "markdown",
   "metadata": {},
   "source": [
    "### __B - Deuxième partie : préparation de l'analyse par le programme MERLIN__  \n",
    "\n",
    "Vous allez réaliser une analyse de liaison sur génome entier en utilisant le programme MERLIN, qui a la capacité de réaliser des calculs sur un grand nombre de marqueurs génétiques. Pour pouvoir effectuer les tests de liaison génétique, MERLIN a besoin d'informations familiales, des données de génotypage des marqueurs génétiques, de leur position sur la carte génétique et des paramètres d'analyse. Ces données sont renseignées dans quatre « fichiers d'entrée ».\n",
    "\n",
    "- Informations familiales (correspondant au pedigree) et génotypes des marqueurs pour chaque individu génotypé : **fichier MO1.ped**  \n",
    "- Position des marqueurs sur la carte génétique : **fichier MO1.map**  \n",
    "- Fichier donnant l'ordre des locus (marqueurs génétiques) et, s'il est renseigné, la position du statut vis à vis de la maladie dans le fichier MO1.ped : **fichier MO1.dat**\n",
    "- Fichier donnant les paramètres nécessaires au calcul des Lod scores : **fichier modele.txt** (celui que vous venez de corriger)\n",
    "\n",
    "Les programmes informatiques ne peuvent exploiter les données des fichiers d'entrée que s'ils respectent des formats précis. Les informations concernant la structure de ces fichiers sont disponibles sur le site de l'University of Michigan et dans le fichier **Tutoriel_Merlin.pdf** (fourni dans l'environnement, à gauche).\n",
    "\n"
   ]
  },
  {
   "cell_type": "markdown",
   "metadata": {},
   "source": [
    "Nous allons examiner ces fichiers les uns après les autres pour comprendre leur structure et les informations qui y sont indiqués. \n",
    "Ces fichiers sont lourds et ne sont pas contenus dans cet environnement, mais sont disponibles sur Plasma, dans le dossier \n",
    "/srv/data/meg-l3-gh/DataTP1/SNP/  \n",
    "\n",
    "Exécutez la commande suivante pour avoir leur liste :"
   ]
  },
  {
   "cell_type": "code",
   "execution_count": 2,
   "metadata": {},
   "outputs": [
    {
     "name": "stdout",
     "output_type": "stream",
     "text": [
      "total 29M\n",
      "-rw-rw-r-- 1 scaburet 1005 4.8M Feb 18 11:43 MO1.dat\n",
      "-rw-rw-r-- 1 scaburet 1005  478 Feb 18 11:43 MO1.don\n",
      "-rw-rw-r-- 1 scaburet 1005 8.6M Feb 18 11:43 MO1.map\n",
      "-rw--w-r-- 1 scaburet 1005  15M Feb 18 12:09 MO1.ped\n",
      "-rw-rw-r-- 1 scaburet 1005 1.3M Feb 18 11:43 MO1.ped.gz\n",
      "-rw-rw-r-- 1 scaburet 1005   86 Feb 18 11:43 modele.txt\n"
     ]
    }
   ],
   "source": [
    "### Cellule Code n° 2\n",
    "\n",
    "ls -lh /srv/data/meg-l3-gh/DataTP1/SNP/"
   ]
  },
  {
   "cell_type": "markdown",
   "metadata": {},
   "source": [
    "  \n",
    "\n",
    "---  \n",
    "**1- Fichier MO1.ped**\n",
    "\n",
    "Le fichier MO1.ped est trop grand pour être lu facilement dans un tableur ou éditeur de texte, donc n’essayez pas de l’ouvrir !   \n",
    "\n",
    "Le fichier **MO1.don** contient les dix premières colonnes de ce fichier, c’est celui que vous allez analyser.\n",
    "Il est fourni directement dans cet environnement (à gauche, dans le dossier **Data**).  \n",
    "\n",
    "- Lisez avant tout la rubrique « Describing Phenotypes and Genotypes (.ped) » du tutoriel Merlin.\n",
    "- Ouvrez le fichier **MO1.don** dans le dossier **Data**, en faisant un clic droit sur son nom et en choisissant Open. Le fichier va s'ouvrir dans un nouvel onglet de cette partie de la fenêtre.\n"
   ]
  },
  {
   "cell_type": "markdown",
   "metadata": {},
   "source": [
    " **Question 2-** <span style=\"color:blue\">  En utilisant les données fournies dans ce fichier, reconstituez l'arbre généalogique sur cette page :  <br>\n",
    "    (Une seule page commune pour tout le groupe)\n",
    "  <br>  </span>\n"
   ]
  },
  {
   "cell_type": "markdown",
   "metadata": {},
   "source": [
    "Groupe du Lundi - A (présentiel) : https://docs.google.com/presentation/d/1VVL2RzDHh8SCXqL6WeRCSdBa16z42Eu6ixSSI6fvybc/edit?usp=sharing    \n",
    "Groupe du Lundi - B (zoom) : https://docs.google.com/presentation/d/1vOvKXIhv1olHuTC8kFmyj58wpNRiQhCgYqlzqujUYmo/edit?usp=sharing    \n",
    "\n",
    "Groupe du Lundi - A (présentiel, salle FF) : https://docs.google.com/presentation/d/1kjPSgZTbtS299Cc0IjAlYpy_vN40ccgbQxMzN4_2Sdo/edit?usp=sharing  \n",
    "Groupe du Lundi - B (présentiel, salle SC) :  https://docs.google.com/presentation/d/19j76XhiOCa627yXz-arr5KyVPSLeTHfdBjXbw2c-qMM/edit?usp=sharing  \n",
    "Groupe du Lundi - C (zoom) : https://docs.google.com/presentation/d/1kjPSgZTbtS299Cc0IjAlYpy_vN40ccgbQxMzN4_2Sdo/edit?usp=sharing"
   ]
  },
  {
   "cell_type": "markdown",
   "metadata": {},
   "source": [
    "---  \n",
    "**Fichier MO1.dat**\n",
    "\n",
    "Le fichier MO1.dat décrit la position dans le fichier MO1.ped (et donc dans le fichier MO1.don pour les 10 premières colonnes) du statut vis à vis de la maladie et des marqueurs génétiques successifs.\n",
    "\n",
    "- Lisez avant tout la rubrique « Describing the pedigree file » du tutoriel Merlin.\n",
    "- Affichez le début du fichier MO1.dat avec la commande suivante : \n"
   ]
  },
  {
   "cell_type": "code",
   "execution_count": 3,
   "metadata": {},
   "outputs": [
    {
     "name": "stdout",
     "output_type": "stream",
     "text": [
      "A\tPOF\n",
      " M  SNP_A-1780619 \n",
      " M  SNP_A-1780618 \n",
      " M  SNP_A-1780617 \n",
      " M  SNP_A-1780778 \n",
      " M  SNP_A-1780616 \n",
      " M  SNP_A-1780613 \n",
      " M  SNP_A-1780419 \n",
      " M  SNP_A-1780612 \n",
      " M  SNP_A-1780418 \n",
      " M  SNP_A-1780611 \n",
      " M  SNP_A-1780610 \n",
      " M  SNP_A-1780415 \n",
      " M  SNP_A-1780576 \n",
      " M  SNP_A-1780413 \n",
      " M  SNP_A-1780412 \n",
      " M  SNP_A-1780574 \n",
      " M  SNP_A-1780379 \n",
      " M  SNP_A-1780572 \n",
      " M  SNP_A-1780378 \n"
     ]
    }
   ],
   "source": [
    "### Cellule Code n° 3\n",
    "# L'argument -n ajouté à la commande head permet de modifier le nombre de lignes affichées. \n",
    "# Ici on indique qu'on veut voir les 20 premières lignes du fichier MO1.dat\n",
    "\n",
    "head -n 20 /srv/data/meg-l3-gh/DataTP1/SNP/MO1.dat"
   ]
  },
  {
   "cell_type": "markdown",
   "metadata": {},
   "source": [
    "   \n",
    "\n",
    "**Question 3 -** <span style=\"color:blue\">En utilisant les données fournies dans les fichiers MO1.don et MO1.dat ainsi que les paramètres corrigiés du fichier de modèle, placez sur votre arbre :  <br>- le génoype attendu au locus maladie <br>- les génotypes des individus pour le marqueur SNP_A-1780618  <br>- les génotypes des individus pour le marqueur SNP_A-1780616 <br>\n",
    " </span>"
   ]
  },
  {
   "cell_type": "markdown",
   "metadata": {},
   "source": [
    "--- \n",
    "**Fichier MO1.map**\n",
    "\n",
    "La fonction du fichier MO1.map est d'indiquer la localisation des marqueurs génétiques dans le génome. Sur votre ordinateur, vous pourriez ouvrir ce fichier dans un tableur (avec des tabulations comme séparateurs de colonnes) ou dans un éditeur de texte simple (pas Microsoft Word, qui ajoute des caractères de formatage invisibles posant problèmes).\n",
    "\n",
    "- Lisez avant tout la rubrique « Genetic Maps » du tutoriel Merlin.\n",
    "- Affichez le début du fichier MO1.map avec la commande suivante : \n"
   ]
  },
  {
   "cell_type": "code",
   "execution_count": 4,
   "metadata": {},
   "outputs": [
    {
     "name": "stdout",
     "output_type": "stream",
     "text": [
      "1\tSNP_A-1780619\t72.030224900657 \n",
      "4\tSNP_A-1780618\t108.086324698038 \n",
      "18\tSNP_A-1780617\t52.2532540364436 \n",
      "5\tSNP_A-1780778\t78.336700651046 \n",
      "12\tSNP_A-1780616\t102.6944788942 \n",
      "12\tSNP_A-1780613\t47.2127875126134 \n",
      "1\tSNP_A-1780419\t108.402547694204 \n",
      "1\tSNP_A-1780612\t190.889722445617 \n",
      "5\tSNP_A-1780418\t161.231323294181 \n",
      "4\tSNP_A-1780611\t82.9843790042536 \n",
      "9\tSNP_A-1780610\t1.98740609553776 \n",
      "5\tSNP_A-1780415\t162.620806994332 \n",
      "1\tSNP_A-1780576\t119.382918462232 \n",
      "11\tSNP_A-1780413\t43.2004618152885 \n",
      "5\tSNP_A-1780412\t127.289670065713 \n",
      "3\tSNP_A-1780574\t150.666286650988 \n",
      "13\tSNP_A-1780379\t72.4507520730385 \n",
      "8\tSNP_A-1780572\t23.7189191388835 \n",
      "8\tSNP_A-1780378\t119.275532398441 \n",
      "11\tSNP_A-1780377\t10.069054565366 \n"
     ]
    }
   ],
   "source": [
    "### Cellule Code n° 4\n",
    "# L'argument -n ajouté à la commande head permet de modifier le nombre de lignes affichées. \n",
    "# Ici on indique qu'on veut voir les 20 premùières lignes du fichier MO1.map\n",
    "\n",
    "head -n 20 /srv/data/meg-l3-gh/DataTP1/SNP/MO1.map"
   ]
  },
  {
   "cell_type": "markdown",
   "metadata": {},
   "source": [
    "   \n",
    "**Question 4 -** <span style=\"color:blue\">  Après avoir lu le tutoriel, indiquez les positions des marqueurs \" SNP_A-1780619\" et \" SNP_A-1780618\".  <br> A quel type de carte ces positions font-elles référence ?  <br>\n",
    " </span>"
   ]
  },
  {
   "cell_type": "markdown",
   "metadata": {},
   "source": [
    "\n",
    "<div class=\"alert alert-block alert-info\"> \n",
    "<b><em> Point de Rendez-vous n°1 :</em></b><br> <br>\n",
    "    (un petit <kbd>Ctrl</kbd> + <kbd>s</kbd> en passant, histoire d'enregistrer votre notebook :-D)<br>\n",
    "<br>\n",
    "    <b>- Mise en commun de vos résultats : </b>comparez vos arbres, sont-ils identiques ? <br>\n",
    "- Combien de filles atteintes avez-vous placées ? Quels numéros portent-elles ? <br>\n",
    "   <br> \n",
    "<a href=\"https://www.wooclap.com/L3GHTP1\" title=\"Wooclap Question 4\">Wooclap Question 4</a>  <br>  \n",
    "\n",
    "<br>      \n",
    "- Votre arbre est-il similaire à celui montré sur les diapos de présentation ? <br>\n",
    "    - Sinon, pourquoi ? <br>\n",
    "<br>   \n",
    "<a href=\"https://www.wooclap.com/L3GHTP1\" title=\"Wooclap Question 5\">Wooclap Question 5</a>  <br>  \n",
    "<br>\n",
    "- Pourquoi ne pas avoir génotypé tout le monde ?  <br>\n",
    "- Quelles conséquences cela peut avoir sur l'analyse de liaison ?<br>\n",
    "<br>\n",
    "Localisations possibles du locus maladie :  <br>\n",
    "<a href=\"https://www.wooclap.com/L3GHTP1\" title=\"Wooclap Questions 6 et 7\">Wooclap Questions 6 et 7</a>  <br>\n",
    "- Quelle justification pouvez-vous fournir pour vos réponses ? <br>\n",
    "\n",
    "<br> \n",
    "<em>     \n",
    "N'oubliez pas que vous pouvez prendre des notes directement dans ce notebook, en ajoutant une cellule Markdown sous celle-ci ou en modifiant les cellules Markdown présentes.\n",
    "</em>\n",
    "</div>\n"
   ]
  },
  {
   "cell_type": "markdown",
   "metadata": {},
   "source": [
    "---"
   ]
  },
  {
   "cell_type": "markdown",
   "metadata": {},
   "source": [
    "### __C - Troisième partie : analyse de laison avec MERLIN__  \n",
    "\n",
    "Vous allez maintenant utiliser Merlin pour réaliser l'analyse de liaison sur génome entier. Merlin va effectuer la même démarche que vous venez d'avoir pour les 2 marqueurs, mais avec les 250 000 marqueurs utilisés pour le génotypage.   \n",
    "\n",
    "Pour faire tourner Merlin, il vous suffit de lancer la commande **merlin** dans un cellule de code. Ce notebook étant un notebook *bash*, la commande sera comprise par Plasma, et lancée directement par le serveur.  \n",
    "Exécutez la cellule suivante pour voir le résultat.\n"
   ]
  },
  {
   "cell_type": "code",
   "execution_count": 5,
   "metadata": {},
   "outputs": [
    {
     "name": "stdout",
     "output_type": "stream",
     "text": [
      "MERLIN 1.1.2 - (c) 2000-2007 Goncalo Abecasis\n",
      "\n",
      "References for this version of Merlin:\n",
      "\n",
      "   Abecasis et al (2002) Nat Gen 30:97-101        [original citation]\n",
      "   Fingerlin et al (2004) AJHG 74:432-43          [case selection for association studies]\n",
      "   Abecasis and Wigginton (2005) AJHG 77:754-67   [ld modeling, parametric analyses]\n",
      "   Fingerlin et al (2006) Gen Epidemiol 30:384-96 [sex-specific maps]\n",
      "   Chen and Abecasis (2007) AJHG 81:913-26        [qtl association analysis, qtl simulation]\n",
      "\n",
      "\n",
      "The following parameters are in effect:\n",
      "                     Data File :      merlin.dat (-dname)\n",
      "                 Pedigree File :      merlin.ped (-pname)\n",
      "            Missing Value Code :         -99.999 (-xname)\n",
      "                      Map File :      merlin.map (-mname)\n",
      "            Allele Frequencies : ALL INDIVIDUALS (-f[a|e|f|m|file])\n",
      "                   Random Seed :          123456 (-r9999)\n",
      "\n",
      "Data Analysis Options\n",
      "         General : --error, --information, --likelihood, --model [param.tbl]\n",
      "      IBD States : --ibd, --kinship, --matrices, --extended, --select\n",
      "     NPL Linkage : --npl, --pairs, --qtl, --deviates, --exp\n",
      "      VC Linkage : --vc, --useCovariates, --ascertainment, --unlinked [0.00]\n",
      "     Association : --infer, --assoc, --fastAssoc, --filter, --custom [cov.tbl]\n",
      "     Haplotyping : --best, --sample, --all, --founders, --horizontal\n",
      "   Recombination : --zero, --one, --two, --three, --singlepoint\n",
      "       Positions : --steps, --maxStep, --minStep, --grid, --start, --stop\n",
      "     LD Clusters : --clusters [], --distance, --rsq, --cfreq\n",
      "          Limits : --bits [24], --megabytes, --minutes\n",
      "     Performance : --trim, --noCoupleBits, --swap, --smallSwap\n",
      "          Output : --quiet, --markerNames, --frequencies, --perFamily, --pdf,\n",
      "                   --tabulate, --prefix [merlin]\n",
      "      Simulation : --simulate, --reruns, --save, --trait []\n",
      "\n",
      "\n",
      "FATAL ERROR - \n",
      "The datafile merlin.dat cannot be opened\n",
      "\n",
      "Common causes for this problem are:\n",
      "  * You might not have used the correct options to specify input file names,\n",
      "    please check the program documentation for information on how to do this\n",
      "\n",
      "  * The file doesn't exist or the filename might have been misspelt\n",
      "\n",
      "  * The file exists but it is being used by another program which you will need\n",
      "    to close before continuing\n",
      "\n",
      "  * The file is larger than 2GB and you haven't compiled this application with\n",
      "    large file support.\n",
      "\n",
      "\n",
      "\n"
     ]
    },
    {
     "ename": "",
     "evalue": "1",
     "output_type": "error",
     "traceback": []
    }
   ],
   "source": [
    "### Cellule Code n° 5\n",
    "\n",
    "merlin"
   ]
  },
  {
   "cell_type": "markdown",
   "metadata": {},
   "source": [
    "   \n",
    "**Question 5 -** <span style=\"color:blue\">  Que s'est-il passé ? <br> Que pouvez-vous faire pour remédier à ce problème ?  <br>\n",
    " </span>"
   ]
  },
  {
   "cell_type": "markdown",
   "metadata": {},
   "source": [
    "Vous allez donc composer la commande correcte.   \n",
    "Lisez la documentation, puis composez votre commande dans la cellule Raw ci-dessous, en indiquant à Merlin les différents éléments dont il a besoin :   \n",
    "- le chemin vers les différents fichiers d'entrée\n",
    "- le fait de faire une analyse **simple point**\n",
    "- l'option permettant d'avoir une sortie vers **un pdf** pour les graphiques\n",
    "- l'option permettant d'avoir une sortie vers **un fichier tabulé** pour les résultats chiffrés\n",
    "- l'option permettant d'indiquer les **noms des marqueurs** dans ce fichier tabulé\n",
    "- l'option permettant de donner un **préfixe** à vos fichiers de sortie\n",
    "- l'option permettant de **ne pas** afficher tous les résultats dans le notebook ! **TRES important :-D**   \n"
   ]
  },
  {
   "cell_type": "raw",
   "metadata": {},
   "source": [
    "Cellule Raw n° 2\n",
    "# Ajoutez les uns derrière les autres les arguments nécessaires à merlin.\n",
    "# Séparez les arguments par un espace à chaque fois. Exemple : \n",
    "# merlin -d mon/chemin/vers/le/fichier.dat -p mon/chemin/vers/le/fichier.ped\n",
    "\n",
    "merlin\n"
   ]
  },
  {
   "cell_type": "markdown",
   "metadata": {},
   "source": [
    "Une fois que votre commande est composée, comparez-la à la commande dans la cellule suivante.    \n",
    "Pour l'afficher, cliquez sur les 3 **...** ci-dessous."
   ]
  },
  {
   "cell_type": "raw",
   "metadata": {},
   "source": [
    " Cellule Raw n° 3\n",
    " # Dans cette commande, les arguments ont été mis chacun sur une ligne pour que vous puissiez bien les vérifier, \n",
    " # mais pour que la commande s'exécute, ils doivent être tous sur la même ligne\n",
    "\n",
    "\n",
    "merlin -d /srv/data/meg-l3-gh/DataTP1/SNP/MO1.dat \n",
    " -p /srv/data/meg-l3-gh/DataTP1/SNP/MO1.ped \n",
    " -m /srv/data/meg-l3-gh/DataTP1/SNP/MO1.map \n",
    " --model modele2.txt\n",
    " --singlepoint\n",
    " --pdf \n",
    " --prefix MO1-snp \n",
    " --tabulate\n",
    " --markerNames\n",
    " --quiet "
   ]
  },
  {
   "cell_type": "markdown",
   "metadata": {},
   "source": [
    "La commande est maintenant prête à être lancée pour exécution.   \n",
    "Vous pouvez soit créer une cellule Code et l'y copier, soit exécuter la cellule suivante."
   ]
  },
  {
   "cell_type": "code",
   "execution_count": null,
   "metadata": {},
   "outputs": [],
   "source": [
    "# Cellule Code n°6\n",
    "\n",
    "merlin -d /srv/data/meg-l3-gh/DataTP1/SNP/MO1.dat -p /srv/data/meg-l3-gh/DataTP1/SNP/MO1.ped -m /srv/data/meg-l3-gh/DataTP1/SNP/MO1.map --model modele2.txt --singlepoint --pdf --prefix MO1-snp --tabulate --markerNames --quiet \n"
   ]
  },
  {
   "cell_type": "markdown",
   "metadata": {},
   "source": [
    "Pendant que Merlin tourne, répondez à la question <a href=\"https://www.wooclap.com/L3GHTP1\" title=\"Question Wooclap 8\">Question Wooclap 8</a>  <br>"
   ]
  },
  {
   "cell_type": "markdown",
   "metadata": {},
   "source": [
    "Quand Merlin a fini de tourner, ouvrez le fichier résultat **.pdf** (avec un double clic ).   \n",
    "Laissez un peu de temps pour l'affichage."
   ]
  },
  {
   "cell_type": "markdown",
   "metadata": {},
   "source": [
    "**Question 6 -** <span style=\"color:blue\">  Voyez-vous des pics de liaison ?<br> \n",
    "   Sur quel(s) chromosome(s) ? <br>\n",
    "   A quelle valeur de lodscore (environ) ? <br>\n",
    "</span>"
   ]
  },
  {
   "cell_type": "markdown",
   "metadata": {},
   "source": [
    "Vous travaillerez sur ces régions de liaison génétique au cours du TP2.   \n",
    "\n",
    "----  "
   ]
  },
  {
   "cell_type": "markdown",
   "metadata": {},
   "source": [
    "D'ici là, n'oubliez pas de faire le travail demandé :   \n",
    "\n",
    "\n",
    "<div class=\"alert alert-block alert-warning\">\n",
    "  \n",
    "<b>Travail \"à la maison\"  à réaliser par groupe de trois étudiants.</b>  \n",
    "\n",
    "Vous allez écrire un Matériel et Méthodes, concevoir une figure à partir de la courbe de Lod scores générée pendant le TP puis écrirez un petit paragraphe résultats.<br>   \n",
    "Ce travail doit respecter la forme suivante :  <br>\n",
    "\n",
    "- le travail est à remettre sous la forme d’un **fichier .pdf** (tout autre format sera refusé) sur Moodle <br> \n",
    "<br>    \n",
    "- **Matériel et Méthodes :** deux paragraphes de quelques lignes qui décrivent : <br>\n",
    "    - les individus génotypés pour l’analyse de liaison, la nature des marqueurs et la technologie de génotypage  <br>\n",
    "    - la façon dont vous avez réalisé l’analyse de liaison (le programme utilisé, les fichiers d’entrée dont vous décrirez très brièvement les informations qu’ils contiennent).  <br> \n",
    "    NB : pensez à mentionner les paramètres importants pour votre analyse !  <br>\n",
    "    Remarque : votre lecteur doit être capable de répliquer votre analyse s’il a en sa possession vos données de génotypage. <br>\n",
    "<br>   \n",
    "- **Une figure légendée** : la figure est la courbe des Lod scores que vous avez générée pendant le TP. Choisissez un seul chromosome. <br>\n",
    "  La figure est à légender selon le format classique d’un article, c’est à dire : <br>\n",
    "   - le numéro de la figure (Figure 1 par exemple…), <br>\n",
    "   - un titre en gras décrivant rapidement ce qu’illustre la figure, <br>\n",
    "   - puis quelques lignes décrivant précisément la figure.  <br>\n",
    "  Votre lecteur doit être capable de lire et interpréter la figure sans aucun autre support que la légende. <br>    \n",
    "<br>\n",
    "- **un texte de 10 lignes maximum de résultats.** Ce texte doit indiquer rapidement ce que vous avez fait (une analyse de liaison) sans aller dans des détails techniques. Dans ce texte vous décrivez les résultats obtenus en vous appuyant sur votre figure (et en la citant dans le texte). <br> \n",
    "Certains détails importants pour l’interprétation n’apparaissant pas clairement dans la figure doivent être mentionnés dans le texte (par exemple la valeur de Lod score maximum trouvée).   <br>\n",
    "Après avoir décrit ces résultats vous achèverez ce paragraphe par votre conclusion. <br>\n",
    " \n",
    "</div>"
   ]
  },
  {
   "cell_type": "markdown",
   "metadata": {},
   "source": [
    "---"
   ]
  },
  {
   "cell_type": "markdown",
   "metadata": {},
   "source": [
    "<div class=\"alert alert-block alert-success\"><b>Bravo, vous voici arrivés à la fin de votre premier TP sur Plamsa !</b> <br>\n",
    "    N'oubliez pas de sauver ce notebook pour garder vos notes. <br>\n",
    "    Vous pouvez en faire un export en format html : \n",
    "- Ouvrez \"File\" dans le Menu<br>\n",
    "- Selectionnez \"Export Notebook As\"<br>\n",
    "- Exportez votre notebook en HTML<br>\n",
    "- Vous pouvez maintenant l'ouvrir dans un navigateur sans être connecté à Plasma! \n",
    "</div>"
   ]
  },
  {
   "cell_type": "markdown",
   "metadata": {},
   "source": [
    "---"
   ]
  },
  {
   "cell_type": "markdown",
   "metadata": {},
   "source": [
    "<div class=\"alert alert-block alert-info\"> \n",
    "<b><em> Rappels sur les notebooks jupyter :</em></b><br>\n",
    "- To add a new cell, click on the <kbd>➕</kbd> icon in the toolbar above your notebook <br>\n",
    "- You can \"click and drag\" to move a cell up or down <br>\n",
    "- You choose the type of cell in the toolbar above your notebook: <br>  \n",
    "        'Code' to enter command lines to be executed <br>\n",
    "        'Markdown' cells to add text, that can be formatted with some characters <br><br>\n",
    "- To execute a 'Code' cell, press <kbd>SHIFT</kbd>+<kbd>ENTER</kbd> or click on the <kbd>▶︎</kbd> icon  <br>\n",
    "- To display a 'Markdown' cell, press <kbd>SHIFT</kbd>+<kbd>ENTER</kbd> or click on the <kbd>▶︎</kbd> icon  <br>\n",
    "- To modify a 'Markdown' cell, double-click on it <br>\n",
    "<br>    \n",
    "<em>  \n",
    "To make nice html reports with markdown: <a href=\"https://dillinger.io/\" title=\"dillinger.io\">html visualization tool 1</a> or <a href=\"https://stackedit.io/app#\" title=\"stackedit.io\">html visualization tool 2</a>, <a href=\"https://www.tablesgenerator.com/markdown_tables\" title=\"tablesgenerator.com\">to draw nice tables</a>, and the <a href=\"https://medium.com/analytics-vidhya/the-ultimate-markdown-guide-for-jupyter-notebook-d5e5abf728fd\" title=\"Ultimate guide\">Ultimate guide</a>. <br>\n",
    "Further reading on JupyterLab notebooks: <a href=\"https://jupyterlab.readthedocs.io/en/latest/user/notebook.html\" title=\"Jupyter Lab\">Jupyter Lab documentation</a>.<br>\n",
    "Here we are using JupyterLab interface implemented as part of the <a href=\"https://plasmabio.org/\" title=\"plasmabio.org\">Plasmabio</a> project led by Sandrine Caburet, Pierre Poulain and Claire Vandiedonck.\n",
    "</em>\n",
    "</div>\n"
   ]
  }
 ],
 "metadata": {
  "kernelspec": {
   "display_name": "Bash",
   "language": "bash",
   "name": "bash"
  },
  "language_info": {
   "codemirror_mode": "shell",
   "file_extension": ".sh",
   "mimetype": "text/x-sh",
   "name": "bash"
  }
 },
 "nbformat": 4,
 "nbformat_minor": 4
}
