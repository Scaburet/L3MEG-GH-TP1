{
 "cells": [
  {
   "cell_type": "markdown",
   "metadata": {},
   "source": [
    "Ceci est un essai de jupynb bash pour faire tourner Merlin\n"
   ]
  },
  {
   "cell_type": "code",
   "execution_count": 1,
   "metadata": {},
   "outputs": [
    {
     "name": "stdout",
     "output_type": "stream",
     "text": [
      "MERLIN 1.1.2 - (c) 2000-2007 Goncalo Abecasis\n",
      "\n",
      "References for this version of Merlin:\n",
      "\n",
      "   Abecasis et al (2002) Nat Gen 30:97-101        [original citation]\n",
      "   Fingerlin et al (2004) AJHG 74:432-43          [case selection for association studies]\n",
      "   Abecasis and Wigginton (2005) AJHG 77:754-67   [ld modeling, parametric analyses]\n",
      "   Fingerlin et al (2006) Gen Epidemiol 30:384-96 [sex-specific maps]\n",
      "   Chen and Abecasis (2007) AJHG 81:913-26        [qtl association analysis, qtl simulation]\n",
      "\n",
      "\n",
      "The following parameters are in effect:\n",
      "                     Data File :      merlin.dat (-dname)\n",
      "                 Pedigree File :      merlin.ped (-pname)\n",
      "            Missing Value Code :         -99.999 (-xname)\n",
      "                      Map File :      merlin.map (-mname)\n",
      "            Allele Frequencies : ALL INDIVIDUALS (-f[a|e|f|m|file])\n",
      "                   Random Seed :          123456 (-r9999)\n",
      "\n",
      "Data Analysis Options\n",
      "         General : --error, --information, --likelihood, --model [param.tbl]\n",
      "      IBD States : --ibd, --kinship, --matrices, --extended, --select\n",
      "     NPL Linkage : --npl, --pairs, --qtl, --deviates, --exp\n",
      "      VC Linkage : --vc, --useCovariates, --ascertainment, --unlinked [0.00]\n",
      "     Association : --infer, --assoc, --fastAssoc, --filter, --custom [cov.tbl]\n",
      "     Haplotyping : --best, --sample, --all, --founders, --horizontal\n",
      "   Recombination : --zero, --one, --two, --three, --singlepoint\n",
      "       Positions : --steps, --maxStep, --minStep, --grid, --start, --stop\n",
      "     LD Clusters : --clusters [], --distance, --rsq, --cfreq\n",
      "          Limits : --bits [24], --megabytes, --minutes\n",
      "     Performance : --trim, --noCoupleBits, --swap, --smallSwap\n",
      "          Output : --quiet, --markerNames, --frequencies, --perFamily, --pdf,\n",
      "                   --tabulate, --prefix [merlin]\n",
      "      Simulation : --simulate, --reruns, --save, --trait []\n",
      "\n",
      "\n",
      "FATAL ERROR - \n",
      "The datafile merlin.dat cannot be opened\n",
      "\n",
      "Common causes for this problem are:\n",
      "  * You might not have used the correct options to specify input file names,\n",
      "    please check the program documentation for information on how to do this\n",
      "\n",
      "  * The file doesn't exist or the filename might have been misspelt\n",
      "\n",
      "  * The file exists but it is being used by another program which you will need\n",
      "    to close before continuing\n",
      "\n",
      "  * The file is larger than 2GB and you haven't compiled this application with\n",
      "    large file support.\n",
      "\n",
      "\n",
      "\n"
     ]
    },
    {
     "ename": "",
     "evalue": "1",
     "output_type": "error",
     "traceback": []
    }
   ],
   "source": [
    "merlin"
   ]
  },
  {
   "cell_type": "code",
   "execution_count": 2,
   "metadata": {},
   "outputs": [
    {
     "name": "stdout",
     "output_type": "stream",
     "text": [
      "MO1.dat  MO1.don  MO1.map  MO1.ped  MO1.ped.gz  modele.txt\n"
     ]
    }
   ],
   "source": [
    "ls /srv/data/meg-l3-gh/DataTP1/SNP/"
   ]
  },
  {
   "cell_type": "raw",
   "metadata": {},
   "source": [
    "merlin -d /srv/data/meg-l3-gh/DataTP1/SNP/MO1.dat \n",
    " -p /srv/data/meg-l3-gh/DataTP1/SNP/MO1.ped \n",
    " -m /srv/data/meg-l3-gh/DataTP1/SNP/MO1.map \n",
    " --model modele2.txt \n",
    " --pdf \n",
    " --prefix MO1-snp \n",
    " --tabulate\n",
    " --quiet"
   ]
  },
  {
   "cell_type": "code",
   "execution_count": 3,
   "metadata": {},
   "outputs": [
    {
     "name": "stdout",
     "output_type": "stream",
     "text": [
      "total 78012\n",
      "drwxrwxr-x 12 scaburet scaburet     4096 Feb 19 13:32 .\n",
      "drwxr-xr-x 40 scaburet     1012     4096 Feb 19 10:18 ..\n",
      "-rw-r--r--  1 scaburet scaburet      220 Feb 18 11:40 .bash_logout\n",
      "-rw-r--r--  1 scaburet scaburet     3771 Feb 18 11:40 .bashrc\n",
      "-rw-rw-r--  1 scaburet scaburet   134890 Feb 19 13:32 Bienvenue-sur-Plasma.ipynb\n",
      "drwxr-xr-x  2 scaburet scaburet     4096 Feb 18 11:40 binder\n",
      "drwxr-xr-x  2 scaburet scaburet     4096 Feb 18 11:40 .conda\n",
      "drwx------  3 scaburet scaburet     4096 Feb 18 11:40 .config\n",
      "drwxrwxr-x  3 scaburet scaburet     4096 Feb 19 11:14 Data\n",
      "drwxr-xr-x  2 scaburet scaburet     4096 Feb 18 11:40 .empty\n",
      "-rw-r--r--  1 scaburet scaburet     4240 Feb 18 11:40 example-notebook.ipynb\n",
      "drwxr-xr-x  8 scaburet scaburet     4096 Feb 18 11:40 .git\n",
      "-rw-r--r--  1 scaburet scaburet      113 Feb 18 11:40 .gitignore\n",
      "drwxrwxr-x  2 scaburet scaburet     4096 Feb 18 15:20 .ipynb_checkpoints\n",
      "drwxr-xr-x  3 scaburet scaburet     4096 Feb 18 11:40 .jupyter\n",
      "-rw-r--r--  1 scaburet scaburet     1517 Feb 18 11:40 LICENSE\n",
      "-rw-rw-r--  1 scaburet scaburet 24441827 Feb 18 13:44 MO1-snp2-parametric.tbl\n",
      "-rw-rw-r--  1 scaburet scaburet 13890314 Feb 18 13:44 MO1-snp2.pdf\n",
      "-rw-rw-r--  1 scaburet scaburet  1847296 Feb 18 15:14 MO1-snp3-parametric.tbl\n",
      "-rw-rw-r--  1 scaburet scaburet   950272 Feb 18 15:14 MO1-snp3.pdf\n",
      "-rw-rw-r--  1 scaburet scaburet 24441827 Feb 18 12:32 MO1-snp-parametric.tbl\n",
      "-rw-rw-r--  1 scaburet scaburet 13890314 Feb 18 12:32 MO1-snp.pdf\n",
      "-rw-rw-r--  1 scaburet scaburet       82 Feb 18 12:07 modele2.txt\n",
      "drwxr-xr-x  3 scaburet scaburet     4096 Feb 18 11:40 .npm\n",
      "-rw-r--r--  1 scaburet scaburet      235 Feb 18 11:40 people.dat\n",
      "-rw-r--r--  1 scaburet scaburet      807 Feb 18 11:40 .profile\n",
      "-rw-r--r--  1 scaburet scaburet     1394 Feb 18 11:40 README.md\n",
      "-rw-r--r--  1 scaburet scaburet   162285 Feb 18 11:40 Tutoriel_Merlin.pdf\n",
      "-rw-rw-r--  1 scaburet scaburet     4271 Feb 18 15:12 Untitled2.ipynb\n",
      "-rw-rw-r--  1 scaburet scaburet     7224 Feb 18 16:21 Untitled.ipynb\n",
      "drwxr-xr-x  3 scaburet scaburet     4096 Feb 18 11:40 .yarn\n"
     ]
    }
   ],
   "source": [
    "ls -la"
   ]
  },
  {
   "cell_type": "code",
   "execution_count": null,
   "metadata": {},
   "outputs": [],
   "source": []
  },
  {
   "cell_type": "code",
   "execution_count": null,
   "metadata": {},
   "outputs": [],
   "source": []
  }
 ],
 "metadata": {
  "kernelspec": {
   "display_name": "Bash",
   "language": "bash",
   "name": "bash"
  },
  "language_info": {
   "codemirror_mode": "shell",
   "file_extension": ".sh",
   "mimetype": "text/x-sh",
   "name": "bash"
  }
 },
 "nbformat": 4,
 "nbformat_minor": 4
}
